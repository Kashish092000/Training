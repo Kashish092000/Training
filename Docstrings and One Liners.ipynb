{
 "cells": [
  {
   "cell_type": "markdown",
   "id": "68d75ba6",
   "metadata": {},
   "source": [
    "## Python Docstrings\n",
    "Python docstrings are the string literals that appear right after the definition of a function, method, class, or module"
   ]
  },
  {
   "cell_type": "code",
   "execution_count": 1,
   "id": "e61411d8",
   "metadata": {},
   "outputs": [],
   "source": [
    "def square(n):\n",
    "    '''Takes in a number n, returns the square of n'''\n",
    "    return n**2"
   ]
  },
  {
   "cell_type": "markdown",
   "id": "6f0e19b8",
   "metadata": {},
   "source": [
    "Inside the triple quotation marks is the docstring of the function square() as it appears right after its definition.\n",
    "\n",
    "We can access these docstrings using the __doc__ attribute."
   ]
  },
  {
   "cell_type": "code",
   "execution_count": 2,
   "id": "7f1b5dd9",
   "metadata": {},
   "outputs": [
    {
     "name": "stdout",
     "output_type": "stream",
     "text": [
      "Takes in a number n, returns the square of n\n"
     ]
    }
   ],
   "source": [
    "def square(n):\n",
    "    '''Takes in a number n, returns the square of n'''\n",
    "    return n**2\n",
    "\n",
    "print(square.__doc__)"
   ]
  },
  {
   "cell_type": "markdown",
   "id": "2a5f3e0e",
   "metadata": {},
   "source": [
    "**Python Comments vs Docstrings**\n",
    "Comments are descriptions that help programmers better understand the intent and functionality of the program. They are completely ignored by the Python interpreter whereas Python docstrings are strings used right after the definition of a function, method, class, or module. They are used to document our code and are not ignored by interpreter."
   ]
  },
  {
   "cell_type": "markdown",
   "id": "c4ae8b50",
   "metadata": {},
   "source": [
    "**Docstrings for the built-in print() function**"
   ]
  },
  {
   "cell_type": "code",
   "execution_count": 3,
   "id": "5714bdfb",
   "metadata": {},
   "outputs": [
    {
     "name": "stdout",
     "output_type": "stream",
     "text": [
      "print(value, ..., sep=' ', end='\\n', file=sys.stdout, flush=False)\n",
      "\n",
      "Prints the values to a stream, or to sys.stdout by default.\n",
      "Optional keyword arguments:\n",
      "file:  a file-like object (stream); defaults to the current sys.stdout.\n",
      "sep:   string inserted between values, default a space.\n",
      "end:   string appended after the last value, default a newline.\n",
      "flush: whether to forcibly flush the stream.\n"
     ]
    }
   ],
   "source": [
    "print(print.__doc__)"
   ]
  },
  {
   "cell_type": "markdown",
   "id": "bbab8d63",
   "metadata": {},
   "source": [
    "## Types of Docstrings"
   ]
  },
  {
   "cell_type": "markdown",
   "id": "14aad73b",
   "metadata": {},
   "source": [
    "**Single-line docstrings in Python**\n",
    "Single line docstrings are the documents that fit in one line."
   ]
  },
  {
   "cell_type": "code",
   "execution_count": 4,
   "id": "46538c96",
   "metadata": {},
   "outputs": [],
   "source": [
    "def multiplier(a, b):\n",
    "    \"\"\"Takes in two numbers, returns their product.\"\"\"\n",
    "    return a*b"
   ]
  },
  {
   "cell_type": "markdown",
   "id": "505e2474",
   "metadata": {},
   "source": [
    "**Multi-line Docstrings in Python**\n",
    "Multi-line docstrings consist of a summary line just like a one-line docstring, followed by a blank line, followed by a more elaborate description."
   ]
  },
  {
   "cell_type": "code",
   "execution_count": 9,
   "id": "ab97e1c7",
   "metadata": {},
   "outputs": [
    {
     "name": "stdout",
     "output_type": "stream",
     "text": [
      "\n",
      "    Summary line.\n",
      "  \n",
      "    Extended description of function.\n",
      "  \n",
      "    Parameters:\n",
      "    arg1 (int): Description of arg1\n",
      "  \n",
      "    Returns:\n",
      "    int: Description of return value\n",
      "  \n",
      "    \n"
     ]
    }
   ],
   "source": [
    "def my_function(arg1):\n",
    "    \"\"\"\n",
    "    Summary line.\n",
    "  \n",
    "    Extended description of function.\n",
    "  \n",
    "    Parameters:\n",
    "    arg1 (int): Description of arg1\n",
    "  \n",
    "    Returns:\n",
    "    int: Description of return value\n",
    "  \n",
    "    \"\"\"\n",
    "  \n",
    "    return arg1\n",
    "  \n",
    "print(my_function.__doc__)"
   ]
  },
  {
   "cell_type": "markdown",
   "id": "0980d21e",
   "metadata": {},
   "source": [
    "**The PEP 257 document provides the standard conventions to write multi-line docstrings for various objects. Some have been listed below:**\n",
    "\n",
    "**1.Docstrings for Python Functions**\n",
    "* The docstring for a function or method should summarize its behavior and document its arguments and return values.\n",
    "* It should also list all the exceptions that can be raised and other optional arguments."
   ]
  },
  {
   "cell_type": "code",
   "execution_count": 5,
   "id": "69ce2fd7",
   "metadata": {},
   "outputs": [
    {
     "name": "stdout",
     "output_type": "stream",
     "text": [
      "\n",
      "    Returns the sum of two decimal numbers in binary digits.\n",
      "\n",
      "            Parameters:\n",
      "                    a (int): A decimal integer\n",
      "                    b (int): Another decimal integer\n",
      "\n",
      "            Returns:\n",
      "                    binary_sum (str): Binary string of the sum of a and b\n",
      "    \n"
     ]
    }
   ],
   "source": [
    "def add_binary(a, b):\n",
    "    '''\n",
    "    Returns the sum of two decimal numbers in binary digits.\n",
    "\n",
    "            Parameters:\n",
    "                    a (int): A decimal integer\n",
    "                    b (int): Another decimal integer\n",
    "\n",
    "            Returns:\n",
    "                    binary_sum (str): Binary string of the sum of a and b\n",
    "    '''\n",
    "    binary_sum = bin(a+b)[2:]\n",
    "    return binary_sum\n",
    "\n",
    "\n",
    "print(add_binary.__doc__)"
   ]
  },
  {
   "cell_type": "markdown",
   "id": "5b2cb83b",
   "metadata": {},
   "source": [
    "**2. Docstrings for Python Classes**\n",
    "* The docstrings for classes should summarize its behavior and list the public methods and instance variables.\n",
    "* The subclasses, constructors, and methods should each have their own docstrings"
   ]
  },
  {
   "cell_type": "code",
   "execution_count": 6,
   "id": "e9a952d7",
   "metadata": {},
   "outputs": [],
   "source": [
    "class Person:\n",
    "    \"\"\"\n",
    "    A class to represent a person.\n",
    "\n",
    "    ...\n",
    "\n",
    "    Attributes\n",
    "    ----------\n",
    "    name : str\n",
    "        first name of the person\n",
    "    surname : str\n",
    "        family name of the person\n",
    "    age : int\n",
    "        age of the person\n",
    "\n",
    "    Methods\n",
    "    -------\n",
    "    info(additional=\"\"):\n",
    "        Prints the person's name and age.\n",
    "    \"\"\"\n",
    "\n",
    "    def __init__(self, name, surname, age):\n",
    "        \"\"\"\n",
    "        Constructs all the necessary attributes for the person object.\n",
    "\n",
    "        Parameters\n",
    "        ----------\n",
    "            name : str\n",
    "                first name of the person\n",
    "            surname : str\n",
    "                family name of the person\n",
    "            age : int\n",
    "                age of the person\n",
    "        \"\"\"\n",
    "\n",
    "        self.name = name\n",
    "        self.surname = surname\n",
    "        self.age = age\n",
    "\n",
    "    def info(self, additional=\"\"):\n",
    "        \"\"\"\n",
    "        Prints the person's name and age.\n",
    "\n",
    "        If the argument 'additional' is passed, then it is appended after the main info.\n",
    "\n",
    "        Parameters\n",
    "        ----------\n",
    "        additional : str, optional\n",
    "            More info to be displayed (default is None)\n",
    "\n",
    "        Returns\n",
    "        -------\n",
    "        None\n",
    "        \"\"\"\n",
    "\n",
    "        print(f'My name is {self.name} {self.surname}. I am {self.age} years old.' + additional)"
   ]
  },
  {
   "cell_type": "code",
   "execution_count": 7,
   "id": "3eea34f0",
   "metadata": {},
   "outputs": [
    {
     "name": "stdout",
     "output_type": "stream",
     "text": [
      "\n",
      "    A class to represent a person.\n",
      "\n",
      "    ...\n",
      "\n",
      "    Attributes\n",
      "    ----------\n",
      "    name : str\n",
      "        first name of the person\n",
      "    surname : str\n",
      "        family name of the person\n",
      "    age : int\n",
      "        age of the person\n",
      "\n",
      "    Methods\n",
      "    -------\n",
      "    info(additional=\"\"):\n",
      "        Prints the person's name and age.\n",
      "    \n"
     ]
    }
   ],
   "source": [
    "print(Person.__doc__) #to access only the docstrings of the Person class"
   ]
  },
  {
   "cell_type": "markdown",
   "id": "9210e9b9",
   "metadata": {},
   "source": [
    "**Using the ```help()``` Function for Docstrings:**\n",
    "We can also use the help() function to read the docstrings associated with various objects."
   ]
  },
  {
   "cell_type": "code",
   "execution_count": 8,
   "id": "3d8a11e1",
   "metadata": {},
   "outputs": [
    {
     "name": "stdout",
     "output_type": "stream",
     "text": [
      "Help on class Person in module __main__:\n",
      "\n",
      "class Person(builtins.object)\n",
      " |  Person(name, surname, age)\n",
      " |  \n",
      " |  A class to represent a person.\n",
      " |  \n",
      " |  ...\n",
      " |  \n",
      " |  Attributes\n",
      " |  ----------\n",
      " |  name : str\n",
      " |      first name of the person\n",
      " |  surname : str\n",
      " |      family name of the person\n",
      " |  age : int\n",
      " |      age of the person\n",
      " |  \n",
      " |  Methods\n",
      " |  -------\n",
      " |  info(additional=\"\"):\n",
      " |      Prints the person's name and age.\n",
      " |  \n",
      " |  Methods defined here:\n",
      " |  \n",
      " |  __init__(self, name, surname, age)\n",
      " |      Constructs all the necessary attributes for the person object.\n",
      " |      \n",
      " |      Parameters\n",
      " |      ----------\n",
      " |          name : str\n",
      " |              first name of the person\n",
      " |          surname : str\n",
      " |              family name of the person\n",
      " |          age : int\n",
      " |              age of the person\n",
      " |  \n",
      " |  info(self, additional='')\n",
      " |      Prints the person's name and age.\n",
      " |      \n",
      " |      If the argument 'additional' is passed, then it is appended after the main info.\n",
      " |      \n",
      " |      Parameters\n",
      " |      ----------\n",
      " |      additional : str, optional\n",
      " |          More info to be displayed (default is None)\n",
      " |      \n",
      " |      Returns\n",
      " |      -------\n",
      " |      None\n",
      " |  \n",
      " |  ----------------------------------------------------------------------\n",
      " |  Data descriptors defined here:\n",
      " |  \n",
      " |  __dict__\n",
      " |      dictionary for instance variables (if defined)\n",
      " |  \n",
      " |  __weakref__\n",
      " |      list of weak references to the object (if defined)\n",
      "\n"
     ]
    }
   ],
   "source": [
    "help(Person)"
   ]
  },
  {
   "cell_type": "markdown",
   "id": "4a4eb42b",
   "metadata": {},
   "source": [
    "Here, we can see that the help() function retrieves the docstrings of the Person class along with the methods associated with that class."
   ]
  },
  {
   "cell_type": "markdown",
   "id": "7ea12d49",
   "metadata": {},
   "source": [
    "**3.Docstrings for Python Scripts**\n",
    "* The docstrings for Python script should document the script's functions and command-line syntax as a usable message.\n",
    "* It should serve as a quick reference to all the functions and arguments."
   ]
  },
  {
   "cell_type": "markdown",
   "id": "7981ab1a",
   "metadata": {},
   "source": [
    "## One-Liners in Python"
   ]
  },
  {
   "cell_type": "markdown",
   "id": "37956f5c",
   "metadata": {},
   "source": [
    "**One-Liner 1:**\n",
    "To input space separated integers in a list: Suppose you want to take space separated input from the console and you want to convert it into List. To do this map() function can be used that takes int() method and input().split() methods as parameter. Here the int() method is used for conversion of input to int type and input().split() methods are used to take input from the console and split the input by spaces. Below is the implementation. \n",
    "\n"
   ]
  },
  {
   "cell_type": "code",
   "execution_count": null,
   "id": "5bf5f231",
   "metadata": {},
   "outputs": [],
   "source": [
    "lis = list(map(int, input().split()))"
   ]
  },
  {
   "cell_type": "markdown",
   "id": "b3a1e006",
   "metadata": {},
   "source": [
    "**One-Liner 2:**\n",
    "To input a 2-D matrix(When the entries are given row-wise): The most naive method that comes in mind while taking a input for 2-D matrix is given below. "
   ]
  },
  {
   "cell_type": "code",
   "execution_count": null,
   "id": "a6ecc2fb",
   "metadata": {},
   "outputs": [],
   "source": [
    "# Input for row and column\n",
    "R = int(input())\n",
    "C = int(input())\n",
    " \n",
    "matrix = []\n",
    " \n",
    "# for loop for row entries\n",
    "for i in range(R):         \n",
    "    a =[]\n",
    " \n",
    "    # for loop for column entries\n",
    "    for j in range(C):\n",
    "         a.append(int(input()))\n",
    "    matrix.append(a)"
   ]
  },
  {
   "cell_type": "markdown",
   "id": "54e4e7bd",
   "metadata": {},
   "source": [
    "The above code can be written in one-line that is way more concise and saves time especially for competitive programmers. "
   ]
  },
  {
   "cell_type": "code",
   "execution_count": null,
   "id": "84297889",
   "metadata": {},
   "outputs": [],
   "source": [
    "# Input for row and column\n",
    "R = int(input())\n",
    "C = int(input())\n",
    " \n",
    "# Using list comprehension for input\n",
    "matrix = [[int(input()) for x in range (C)] for y in range(R)]"
   ]
  },
  {
   "cell_type": "markdown",
   "id": "51cd5227",
   "metadata": {},
   "source": [
    "**One-Liner 3:** We know this fact, but sometimes we tend to ignore it while translating from other languages. It is swapping of two numbers. The most naive way of doing this is: "
   ]
  },
  {
   "cell_type": "code",
   "execution_count": null,
   "id": "a3b3b685",
   "metadata": {},
   "outputs": [],
   "source": [
    "temp = a\n",
    "a = b\n",
    "b = temp"
   ]
  },
  {
   "cell_type": "markdown",
   "id": "bf9ecbd5",
   "metadata": {},
   "source": [
    "However, Python provides one-liner for this also. The Pythonic way is:"
   ]
  },
  {
   "cell_type": "code",
   "execution_count": null,
   "id": "17c59656",
   "metadata": {},
   "outputs": [],
   "source": [
    "# to swap two numbers a and b\n",
    "a, b = b, a"
   ]
  },
  {
   "cell_type": "markdown",
   "id": "5fd213d3",
   "metadata": {},
   "source": [
    "**One-Liner 4** Lambda Functions(Anonymous Functions) – Lambda functions are python one liner functions and are often used when an expression is to be evaluated. For example, let’s suppose we want to create a function that returns the square of the number passed as argument. The normal way of doing this is:"
   ]
  },
  {
   "cell_type": "code",
   "execution_count": 15,
   "id": "620b53ec",
   "metadata": {},
   "outputs": [
    {
     "name": "stdout",
     "output_type": "stream",
     "text": [
      "25\n"
     ]
    }
   ],
   "source": [
    "def sqr(x):\n",
    "    return x * x\n",
    " \n",
    "print(sqr(5))"
   ]
  },
  {
   "cell_type": "markdown",
   "id": "501a6253",
   "metadata": {},
   "source": [
    "Lambda function replaces a function wherever a single expression is to be evaluated. "
   ]
  },
  {
   "cell_type": "code",
   "execution_count": 16,
   "id": "295d2bc0",
   "metadata": {},
   "outputs": [
    {
     "name": "stdout",
     "output_type": "stream",
     "text": [
      "25\n"
     ]
    }
   ],
   "source": [
    "sqr = lambda x: x * x\n",
    "print(sqr(5))"
   ]
  },
  {
   "cell_type": "markdown",
   "id": "9f4910d0",
   "metadata": {},
   "source": [
    "**One-Liner 5:** List comprehensions – This is a concise way to create lists. Instead of doing it the usual way, we can make use of list comprehensions. For example, we want to create a list of even numbers till 11. The normal way of doing this is: "
   ]
  },
  {
   "cell_type": "code",
   "execution_count": 17,
   "id": "56f05e43",
   "metadata": {},
   "outputs": [
    {
     "name": "stdout",
     "output_type": "stream",
     "text": [
      "[0, 2, 4, 6, 8, 10]\n"
     ]
    }
   ],
   "source": [
    "evenNumbers =[]\n",
    "for x in range(11):\n",
    "    if x % 2 == 0:\n",
    "        evenNumbers.append(x)\n",
    " \n",
    "print(evenNumbers)"
   ]
  },
  {
   "cell_type": "code",
   "execution_count": 18,
   "id": "ef713b54",
   "metadata": {},
   "outputs": [
    {
     "name": "stdout",
     "output_type": "stream",
     "text": [
      "[0, 2, 4, 6, 8, 10]\n"
     ]
    }
   ],
   "source": [
    "# Pythonic way\n",
    "evenNumbers =[x for x in range(11) if x % 2 == 0]\n",
    "print(evenNumbers)"
   ]
  },
  {
   "cell_type": "markdown",
   "id": "5e47c2de",
   "metadata": {},
   "source": [
    "**One-Liner 6:** This trick may help while using if-else or while loop. Instead of doing this – "
   ]
  },
  {
   "cell_type": "code",
   "execution_count": null,
   "id": "b59bb92b",
   "metadata": {},
   "outputs": [],
   "source": [
    "if m == 1 or m == 2 or m == 3:\n",
    "    pass"
   ]
  },
  {
   "cell_type": "code",
   "execution_count": null,
   "id": "0063e85b",
   "metadata": {},
   "outputs": [],
   "source": [
    "#Pythonic way\n",
    "if m in [1, 2, 3]:\n",
    "    pass"
   ]
  },
  {
   "cell_type": "markdown",
   "id": "b2ff13be",
   "metadata": {},
   "source": [
    "**One-Liner 7:** There are various ways to reverse a list in python. Pythonic ways to reverse a list:\n",
    "\n",
    "* Using the slicing technique- This technique creates the copy of the list while reversing. It takes up more memory."
   ]
  },
  {
   "cell_type": "code",
   "execution_count": 20,
   "id": "410e5058",
   "metadata": {},
   "outputs": [
    {
     "name": "stdout",
     "output_type": "stream",
     "text": [
      "[3, 2, 1]\n"
     ]
    }
   ],
   "source": [
    "lis = [1, 2, 3]\n",
    "reversed_list = lis[::-1]\n",
    " \n",
    "print(reversed_list)"
   ]
  },
  {
   "cell_type": "markdown",
   "id": "959692cf",
   "metadata": {},
   "source": [
    "* Using the reverse function- It reverse the contents of the list object in-place."
   ]
  },
  {
   "cell_type": "code",
   "execution_count": 21,
   "id": "5efd5648",
   "metadata": {},
   "outputs": [
    {
     "name": "stdout",
     "output_type": "stream",
     "text": [
      "[3, 2, 1]\n"
     ]
    }
   ],
   "source": [
    "lis = [1, 2, 3]\n",
    "lis.reverse()\n",
    " \n",
    "print(lis)"
   ]
  },
  {
   "cell_type": "markdown",
   "id": "89b4cd99",
   "metadata": {},
   "source": [
    "**One-Liner 8:** You can take this as a challenge. Making one-liner python patterns. For example, Make the following code concise to one line. "
   ]
  },
  {
   "cell_type": "code",
   "execution_count": 22,
   "id": "40ebe348",
   "metadata": {},
   "outputs": [
    {
     "name": "stdout",
     "output_type": "stream",
     "text": [
      "* \r\n",
      "* * \r\n",
      "* * * \r\n",
      "* * * * \r\n",
      "* * * * * \r\n"
     ]
    }
   ],
   "source": [
    "for i in range(0, 5):\n",
    "       \n",
    "        for j in range(0, i + 1):\n",
    "            # printing stars\n",
    "            print(\"* \", end =\"\")\n",
    "        \n",
    "        # ending line after each row\n",
    "        print(\"\\r\")"
   ]
  },
  {
   "cell_type": "code",
   "execution_count": 23,
   "id": "3b5cae29",
   "metadata": {},
   "outputs": [
    {
     "name": "stdout",
     "output_type": "stream",
     "text": [
      "* \n",
      "* * \n",
      "* * * \n",
      "* * * * \n",
      "* * * * * \n"
     ]
    }
   ],
   "source": [
    "#Concise all this in one line\n",
    "n = 5\n",
    " \n",
    "# one liner code for half pyramid pattern\n",
    "print('\\n'.join('* ' * i for i in range(1, n + 1)))"
   ]
  },
  {
   "cell_type": "markdown",
   "id": "3b4ba775",
   "metadata": {},
   "source": [
    "**One-Liner 9:** Finding the factorial. The normal way of finding a factorial is iterating till that number and multiplying the number in each iteration. "
   ]
  },
  {
   "cell_type": "code",
   "execution_count": 24,
   "id": "3b4b264a",
   "metadata": {},
   "outputs": [
    {
     "name": "stdout",
     "output_type": "stream",
     "text": [
      "120\n"
     ]
    }
   ],
   "source": [
    "n = 5\n",
    "fact = 1\n",
    "   \n",
    "for i in range(1, n + 1):\n",
    "    fact = fact * i\n",
    "print (fact)"
   ]
  },
  {
   "cell_type": "code",
   "execution_count": 25,
   "id": "6fa4e17f",
   "metadata": {},
   "outputs": [
    {
     "name": "stdout",
     "output_type": "stream",
     "text": [
      "120\n"
     ]
    }
   ],
   "source": [
    "#use math.factorial(x)\n",
    "import math \n",
    " \n",
    "n = 5\n",
    "print(math.factorial(n))"
   ]
  },
  {
   "cell_type": "markdown",
   "id": "2be92930",
   "metadata": {},
   "source": [
    "**One-Liner 10:** Finding all subsets of a set in one line. It can be done in a much simpler way using itertools.combinations() "
   ]
  },
  {
   "cell_type": "code",
   "execution_count": 26,
   "id": "869f26e0",
   "metadata": {},
   "outputs": [
    {
     "name": "stdout",
     "output_type": "stream",
     "text": [
      "[(1, 2), (1, 3), (1, 4), (2, 3), (2, 4), (3, 4)]\n"
     ]
    }
   ],
   "source": [
    "from itertools import combinations\n",
    " \n",
    " \n",
    "# list of all subsets of\n",
    "# length r (r = 2 in this example)\n",
    "print(list(combinations([1, 2, 3, 4], 2)))"
   ]
  },
  {
   "cell_type": "markdown",
   "id": "f5c9be9e",
   "metadata": {},
   "source": [
    "**One-Liner 11:** Read file in python and input it to a list. "
   ]
  },
  {
   "cell_type": "code",
   "execution_count": null,
   "id": "5ab6a813",
   "metadata": {},
   "outputs": [],
   "source": [
    "file = open('abc.txt', 'r')\n",
    "lis =[]\n",
    " \n",
    "for each in file:\n",
    " \n",
    "    # removing '\\n' from the end of the string\n",
    "    a = each[:-1]\n",
    "    lis.append(a)\n",
    " \n",
    "file.close()"
   ]
  },
  {
   "cell_type": "code",
   "execution_count": null,
   "id": "5e244bf7",
   "metadata": {},
   "outputs": [],
   "source": [
    "#One line code\n",
    "lis = [line.strip() for line in open('abc.txt', 'r')]"
   ]
  },
  {
   "cell_type": "code",
   "execution_count": null,
   "id": "cc1514cf",
   "metadata": {},
   "outputs": [],
   "source": []
  }
 ],
 "metadata": {
  "kernelspec": {
   "display_name": "Python 3 (ipykernel)",
   "language": "python",
   "name": "python3"
  },
  "language_info": {
   "codemirror_mode": {
    "name": "ipython",
    "version": 3
   },
   "file_extension": ".py",
   "mimetype": "text/x-python",
   "name": "python",
   "nbconvert_exporter": "python",
   "pygments_lexer": "ipython3",
   "version": "3.10.6"
  }
 },
 "nbformat": 4,
 "nbformat_minor": 5
}
